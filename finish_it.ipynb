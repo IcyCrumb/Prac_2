{
 "cells": [
  {
   "cell_type": "code",
   "execution_count": 1,
   "metadata": {
    "collapsed": false
   },
   "outputs": [
    {
     "name": "stdout",
     "output_type": "stream",
     "text": [
      "7.947479773353086\n",
      "1.5707963268\n",
      "6.94748622106069\n"
     ]
    }
   ],
   "source": [
    "from __future__ import division\n",
    "import numpy as np\n",
    "import math\n",
    "import matplotlib.pyplot as plt\n",
    "from scipy import optimize\n",
    "\n",
    "K_a0 = 1.38629436112\n",
    "K_a1 = 0.09666344259\n",
    "K_a2 = 0.03590092383\n",
    "K_a3 = 0.03742563713\n",
    "K_a4 = 0.01451196212\n",
    "\n",
    "K_b0 = 0.5\n",
    "K_b1 = 0.12498593597\n",
    "K_b2 = 0.06880248576\n",
    "K_b3 = 0.03328355346\n",
    "K_b4 = 0.00441787012\n",
    "\n",
    "E_a1 = 0.44325141463\n",
    "E_a2 = 0.06260601220\n",
    "E_a3 = 0.04757383546\n",
    "E_a4 = 0.01736506451\n",
    "\n",
    "E_b1 = 0.24998368310\n",
    "E_b2 = 0.09200180037\n",
    "E_b3 = 0.04069697526\n",
    "E_b4 = 0.00526449639\n",
    "\n",
    "def K(m):\n",
    "    m1 = 1 - m**2\n",
    "    return (K_a0 + K_a1*m1 + K_a2*m1**2 + K_a3*m1**3 + K_a4*m1**4) + (K_b0 + K_b1*m1 + K_b2*m1**2 + K_b3*m1**3 + K_b4*m1**4)*math.log(1/m1)\n",
    "\n",
    "def E(m):\n",
    "    m1 = 1 - m**2\n",
    "    return (1 + E_a1*m1 + E_a2*m1**2 + E_a3*m1**3 + E_a4*m1**4) + (E_b1*m1 + E_b2*m1**2 + E_b3*m1**3 + E_b4*m1**4)*math.log(1/m1)\n",
    "\n",
    "def D(m):\n",
    "    m2 = math.sqrt(1-m**2)\n",
    "    lamb = math.log(4/m2)\n",
    "        \n",
    "    #if abs(K(m) - E(m)) > 1e-6:\n",
    "    return (K(m) - E(m))/m**2\n",
    "    #else:\n",
    "    return lamb - 1 + 3/4*(lamb - 4/3)*m2**2 + 45/64*(lamb - 41/30)*m2**4 \n",
    "\n",
    "print(K(0.999999)) \n",
    "print(E(0))     \n",
    "print(D(0.999999))    "
   ]
  },
  {
   "cell_type": "code",
   "execution_count": 55,
   "metadata": {
    "collapsed": false
   },
   "outputs": [
    {
     "name": "stdout",
     "output_type": "stream",
     "text": [
      "[  2.00285522  13.09797702  13.02298429  12.95782129  12.89141902\n",
      "  12.81991984  12.74162723  12.65573472  12.56187946  12.45995102\n",
      "  12.34999737  12.23217333  12.10670981  11.97389384  11.83405477\n",
      "  11.68755413  11.53477766  11.37612901  11.21202433  11.04288777\n",
      "  10.8691475   10.69123224  10.50956826  10.32457666  10.13667108\n",
      "   9.94625566   9.75372329   9.55945416   9.36381452   9.1671557\n",
      "   8.96981329   8.77210661   8.57433824   8.37679384   8.17974198\n",
      "   7.98343422   7.78810522   7.593973     7.40123928   7.21008983\n",
      "   7.020695     6.83321016   6.64777629   6.46452055   6.28355687\n",
      "   6.10498657   5.92889896   5.75537198   5.58447278   5.41625839\n",
      "   5.25077621   5.0880647    4.92815384   4.77106573   4.61681508\n",
      "   4.4654097    4.31685098   4.17113434   4.02824963   3.88818152\n",
      "   3.7509099    3.61641019   3.48465369   3.35560785   3.22923657\n",
      "   3.10550042   2.98435691   2.86576067   2.74966363   2.63601522\n",
      "   2.52476253   2.41585039   2.30922155   2.20481676   2.10257483\n",
      "   2.00243278   1.90432583   1.80818751   1.71394968   1.62154256\n",
      "   1.53089479   1.44193342   1.35458397   1.26877042   1.18441523\n",
      "   1.10143938   1.01976237   0.93930227   0.85997573   0.781698\n",
      "   0.70438306   0.62794358   0.55229104   0.47733584   0.40298732\n",
      "   0.32915391   0.25574327   0.18266236   0.10981763   0.03711513\n",
      "  -0.03553931  -0.10823996  -0.18108098  -0.25415632  -0.32755953\n",
      "  -0.40138365  -0.47572103  -0.55066324  -0.62630091  -0.70272367\n",
      "  -0.78002003  -0.8582773   -0.93758153  -1.01801744  -1.09966838\n",
      "  -1.18261628  -1.26694164  -1.35272346  -1.44003928  -1.52896511\n",
      "  -1.61957543  -1.71194317  -1.80613968  -1.90223473  -2.00029645\n",
      "  -2.10039131  -2.20258406  -2.30693768  -2.41351333  -2.52237026\n",
      "  -2.63356571  -2.74715481  -2.8631905   -2.98172331  -3.1028013\n",
      "  -3.22646983  -3.35277138  -3.48174537  -3.6134279   -3.7478515\n",
      "  -3.88504488  -4.02503259  -4.16783477  -4.31346673  -4.46193862\n",
      "  -4.61325504  -4.76741462  -4.92440954  -5.08422512  -5.24683928\n",
      "  -5.41222206  -5.58033504  -5.75113085  -5.92455251  -6.10053291\n",
      "  -6.27899418  -6.45984705  -6.64299029  -6.82831003  -7.01567922\n",
      "  -7.20495696  -7.39598797  -7.58860204  -7.7826135   -7.97782078\n",
      "  -8.174006    -8.37093464  -8.56835533  -8.76599965  -8.96358214\n",
      "  -9.16080042  -9.35733538  -9.55285163  -9.74699809  -9.93940875\n",
      " -10.12970365 -10.31749016 -10.50236441 -10.68391303 -10.86171519\n",
      " -11.0353449  -11.20437371 -11.36837373 -11.5269211  -11.67959992\n",
      " -11.82600682 -11.9657563  -12.09848706 -12.22386998 -12.34161819\n",
      " -12.45150094 -12.55336349 -12.64715792 -12.73299455 -12.81123597\n",
      " -12.88268811 -12.94904629 -13.01416549 -13.08910709  -1.99609301]\n"
     ]
    }
   ],
   "source": [
    "print(initial_approx)"
   ]
  },
  {
   "cell_type": "code",
   "execution_count": 7,
   "metadata": {
    "collapsed": false
   },
   "outputs": [
    {
     "name": "stdout",
     "output_type": "stream",
     "text": [
      "Длина эллипсоида: 3.1415926536\n",
      "1.0\n",
      "Длина эллипсоида: 3.300542516261554\n",
      "1.1\n",
      "Длина эллипсоида: 3.4628955979404417\n",
      "1.2\n",
      "Длина эллипсоида: 3.6282144875462863\n",
      "1.3\n",
      "Длина эллипсоида: 3.7961369162300005\n",
      "1.4\n",
      "Длина эллипсоида: 3.966359879200255\n",
      "1.5\n",
      "Длина эллипсоида: 4.138627560692521\n",
      "1.6\n",
      "Длина эллипсоида: 4.312722202970136\n",
      "1.7\n",
      "Длина эллипсоида: 4.4884570860608255\n",
      "1.8\n",
      "Длина эллипсоида: 4.665671045072357\n",
      "1.9\n",
      "Длина эллипсоида: 4.844224133719964\n",
      "2.0\n"
     ]
    },
    {
     "data": {
      "image/png": "[encoded data removed]",
      "text/plain": [
       "<matplotlib.figure.Figure at 0x7efdf43675f8>"
      ]
     },
     "metadata": {},
     "output_type": "display_data"
    }
   ],
   "source": [
    "def nosik(B):\n",
    "    epsilon = 0.00001\n",
    "    n = 100\n",
    "\n",
    "    A = 1. # B >= A\n",
    "    e = math.sqrt(1 - A**2/B**2)\n",
    "    L = 2*B*E(e)\n",
    "    print(\"Длина эллипсоида: {}\".format(L))\n",
    "    #L = math.pi\n",
    "    ka = math.sqrt((B**2 - A**2)/B**2)\n",
    "\n",
    "\n",
    "    ksises = np.linspace(0, L, num=n)\n",
    "    #sigma = initial_approx.copy()\n",
    "    sigma = 3*np.cos(ksises)\n",
    "    #sigma = np.linspace(0, L, num=n)\n",
    "\n",
    "    def E_incomp(fi, k):\n",
    "        b_0 = 1 - 2/math.pi*E(k)\n",
    "        b_1 = b_0 - 1/4*k**2\n",
    "        b_2 = b_1 - 3/64*k**4\n",
    "\n",
    "        return 2/math.pi*E(k)*fi - math.sin(fi)*math.cos(fi)*(b_0 + 2/3*b_1*math.sin(fi)**2 + 8/15*b_2*math.sin(fi)**4)\n",
    "\n",
    "\n",
    "    def f(tetta, ksi):\n",
    "        return B*(E(ka) - E_incomp(math.pi/2 - tetta, ka)) - ksi\n",
    "\n",
    "    tettas = []\n",
    "    for ksi in ksises:\n",
    "        tettas.append(optimize.fsolve(f, 0, args = (ksi))[0])\n",
    "\n",
    "\n",
    "    def r(l):\n",
    "        return A*math.sin(tettas[l])\n",
    "\n",
    "    def r_tetta(l):\n",
    "        return A*math.cos(tettas[l])\n",
    "\n",
    "    def r_ksi(l):\n",
    "        dksi_dtetta = B*math.sqrt(1 - ka**2*math.cos(tettas[l])**2)\n",
    "        return r_tetta(l)*(1/dksi_dtetta)\n",
    "\n",
    "    def z(l):\n",
    "        return B*(1-math.cos(tettas[l]))\n",
    "\n",
    "    def z_tetta(l):\n",
    "        return B*math.sin(tettas[l])\n",
    "\n",
    "    def z_ksi(l):\n",
    "        dksi_dtetta = B*math.sqrt(1 - ka**2*math.cos(tettas[l])**2)\n",
    "        return z_tetta(l)*(1/dksi_dtetta)\n",
    "\n",
    "\n",
    "    def a(i, j):\n",
    "        return (r(i)*z_ksi(i) - z(i)*r_ksi(i) + z(j)*r_ksi(i))*r(j)\n",
    "\n",
    "    def b(i, j):\n",
    "        return r(j)**2*z_ksi(i)\n",
    "\n",
    "    def c(i, j):\n",
    "        return r(i)**2 + r(j)**2 + (z(i) - z(j))**2\n",
    "\n",
    "    def d(i, j):\n",
    "        return 2*r(i)*r(j)\n",
    "\n",
    "    def K_0(i, j):\n",
    "        if abs(r(i)) < epsilon and abs(r(j)) < epsilon:\n",
    "            return 2*math.pi\n",
    "        elif abs(c(i, j) - d(i, j)) < epsilon: #or (c(i,j) + d(i,j)) < epsilon:\n",
    "            return 0\n",
    "        elif d(i,j) < epsilon:\n",
    "            d_ksi = L/(n-1)\n",
    "            return math.log(4) - d_ksi/2*(math.log(d_ksi/2) + math.log(d_ksi/2))\n",
    "            #return 2*(a(i, j) - b(i, j))/c(i, j)**(3/2)*math.pi\n",
    "        else:\n",
    "            Ef = E(math.sqrt(abs(2*d(i, j)/(c(i, j)+d(i, j)))))\n",
    "            Df = D(math.sqrt(abs(2*d(i, j)/(c(i, j)+d(i, j)))))\n",
    "            return 4/math.sqrt(abs(c(i, j)+d(i, j)))*(2*b(i, j)/(c(i, j) + d(i, j))*Df + (a(i, j)-b(i, j))/(c(i, j)-d(i, j))*Ef)\n",
    "\n",
    "    sigmaa = np.zeros(len(sigma))   \n",
    "\n",
    "    i = 1\n",
    "    sigma_prev = np.zeros(len(sigma))\n",
    "    iter = 0\n",
    "    while True:\n",
    "        for i in range(n):\n",
    "            sigmaa[i] = 0\n",
    "            #sigmaa[0] = 0.5*sigma[0]\n",
    "            #sigmaa[-1] = 0.5*sigma[-1]\n",
    "            for j in range(n):\n",
    "                #if i != j:\n",
    "                    #print(i,j, K_0(i, j))\n",
    "                sigmaa[i] += sigma[j]*L/(n-1)*K_0(i,j)/4/math.pi\n",
    "\n",
    "                sigma[i] = 2*(r_ksi(i) + sigmaa[i])\n",
    "        if np.linalg.norm(sigma - sigma_prev) < 0.0001 * np.sqrt(n):\n",
    "            break\n",
    "        iter += 1\n",
    "        #if iter % 20 == 0:\n",
    "        #    print(\"Итерация {}, норма {}\".format(iter, np.linalg.norm(sigma - sigma_prev)))\n",
    "        #plt.plot(sigma_prev)\n",
    "        #plt.show()\n",
    "        sigma_prev = sigma.copy()\n",
    "        \n",
    "    return sigma[0]\n",
    "\n",
    "B = 1\n",
    "B_arr = []\n",
    "sigma_0 = []\n",
    "for B in np.arange(1, 2.1, 0.1):\n",
    "    sigma_0.append(nosik(B))\n",
    "    B_arr.append(B)\n",
    "    print(B)\n",
    "    \n",
    "plt.plot(B_arr[:], sigma_0[:])\n",
    "plt.xlabel(r'$B$')\n",
    "plt.ylabel(r'$\\sigma(0)$')\n",
    "plt.show()"
   ]
  },
  {
   "cell_type": "code",
   "execution_count": null,
   "metadata": {
    "collapsed": true
   },
   "outputs": [],
   "source": [
    "cos_arr = np.arange(n, dtype=float)\n",
    "\n",
    "cosinus = 3*np.cos(ksises)\n",
    "\n",
    "for m in range(len(sigma)):\n",
    "    cos_arr[m] = sigma[m] + sigma[n-1-m] #sigma[m] + sigma[n-1-m]#math.pi-tettas[n-1-m] #r_ksi(m)**2+z_ksi(m)**2 #3*math.cos(ksises[m])\n",
    "\n",
    "plt.plot(ksises[1:-1], cos_arr[1:-1])\n",
    "plt.xlabel(r'$\\xi$')\n",
    "plt.ylabel(r'$\\sigma[m]+\\sigma[n-1-m]$')\n",
    "plt.show()\n",
    "\n",
    "plt.plot(ksises[1:-1], cosinus[1:-1])\n",
    "plt.plot(ksises[1:-1], sigma[1:-1])\n",
    "plt.xlabel(r'$\\xi$')\n",
    "plt.ylabel(r'$\\sigma(\\xi)$')\n",
    "plt.show()\n",
    "\n",
    "diff = np.linspace(0, L, num=n)\n",
    "for i in range(len(diff)):\n",
    "    diff[i] = sigma[i] - cosinus[i]\n",
    "\n",
    "plt.plot(ksises[1:-1], diff[1:-1])\n",
    "plt.xlabel(r'$\\xi$')\n",
    "plt.ylabel(r'$\\sigma(\\xi) - 3\\cos\\xi$')\n",
    "plt.show()\n",
    "\n",
    "\n",
    "#initial_approx = sigma.copy()\n",
    "#print(initial_approx)"
   ]
  },
  {
   "cell_type": "markdown",
   "metadata": {
    "collapsed": true
   },
   "source": [
    "# Spheroidal approximation"
   ]
  },
  {
   "cell_type": "code",
   "execution_count": 43,
   "metadata": {
    "collapsed": false
   },
   "outputs": [
    {
     "data": {
      "image/png": "[encoded data removed]",
      "text/plain": [
       "<matplotlib.figure.Figure at 0x7faad3792e48>"
      ]
     },
     "metadata": {},
     "output_type": "display_data"
    },
    {
     "data": {
      "image/png": "[encoded data removed]",
      "text/plain": [
       "<matplotlib.figure.Figure at 0x7faad3602978>"
      ]
     },
     "metadata": {},
     "output_type": "display_data"
    }
   ],
   "source": [
    "I = 1 / (2 * e**3)  * np.log((1 + e) / (1 - e)) - 1 / e**2  \n",
    "\n",
    "def P(x):\n",
    "    P_kvadrat = B**2 * (1 - x**2 * e**2 / A**2)**(-1)\n",
    "    return P_kvadrat**0.5\n",
    "\n",
    "def dv_dn(x):\n",
    "    return 0.73 * x * P(x) / (B**2 * I)\n",
    "\n",
    "x = A*np.cos(tettas)\n",
    "y_t = np.array([dv_dn(i) for i in x])\n",
    "y_r = np.array([r_ksi(i) for i in range(n)])\n",
    "plt.plot(x, y_r)\n",
    "\n",
    "plt.plot(x, y_t)\n",
    "plt.xlabel(r'$\\xi$')\n",
    "plt.ylabel(r'$r_{\\xi}(\\xi_i) \\quad$ & $ \\quad \\frac{dV}{dn}$')\n",
    "plt.show()\n",
    "\n",
    "plt.plot(x, y_t - y_r)\n",
    "plt.xlabel(r'$\\xi$')\n",
    "plt.ylabel(r'$r_{\\xi}(\\xi_i) - \\frac{dV}{dn}$')\n",
    "plt.show()"
   ]
  },
  {
   "cell_type": "code",
   "execution_count": 4,
   "metadata": {
    "collapsed": false
   },
   "outputs": [
    {
     "data": {
      "image/png": "[encoded data removed]",
      "text/plain": [
       "<matplotlib.figure.Figure at 0x7faad37136a0>"
      ]
     },
     "metadata": {},
     "output_type": "display_data"
    }
   ],
   "source": [
    "plt.plot(x, y_t - y_r)\n",
    "plt.xlabel(r'$\\xi$')\n",
    "plt.ylabel(r'$r_{\\xi}(\\xi_i) - \\frac{dV}{dn}$')\n",
    "plt.show()"
   ]
  },
  {
   "cell_type": "code",
   "execution_count": null,
   "metadata": {
    "collapsed": true
   },
   "outputs": [],
   "source": []
  }
 ],
 "metadata": {
  "kernelspec": {
   "display_name": "Python 3",
   "language": "python",
   "name": "python3"
  },
  "language_info": {
   "codemirror_mode": {
    "name": "ipython",
    "version": 3
   },
   "file_extension": ".py",
   "mimetype": "text/x-python",
   "name": "python",
   "nbconvert_exporter": "python",
   "pygments_lexer": "ipython3",
   "version": "3.6.0"
  }
 },
 "nbformat": 4,
 "nbformat_minor": 2
}
