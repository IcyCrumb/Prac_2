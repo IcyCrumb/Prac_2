{
 "cells": [
  {
   "cell_type": "code",
   "execution_count": 23,
   "metadata": {
    "collapsed": false
   },
   "outputs": [
    {
     "name": "stdout",
     "output_type": "stream",
     "text": [
      "1.57079632679\n",
      "1.5707963268\n",
      "0.7853883379205229\n"
     ]
    }
   ],
   "source": [
    "import numpy as np\n",
    "import math\n",
    "import matplotlib.pyplot as plt\n",
    "from scipy import optimize\n",
    "\n",
    "K_a0 = 1.38629436112\n",
    "K_a1 = 0.09666344259\n",
    "K_a2 = 0.03590092383\n",
    "K_a3 = 0.03742563713\n",
    "K_a4 = 0.01451196212\n",
    "\n",
    "K_b0 = 0.5\n",
    "K_b1 = 0.12498593597\n",
    "K_b2 = 0.06880248576\n",
    "K_b3 = 0.03328355346\n",
    "K_b4 = 0.00441787012\n",
    "\n",
    "E_a1 = 0.44325141463\n",
    "E_a2 = 0.06260601220\n",
    "E_a3 = 0.04757383546\n",
    "E_a4 = 0.01736506451\n",
    "\n",
    "E_b1 = 0.24998368310\n",
    "E_b2 = 0.09200180037\n",
    "E_b3 = 0.04069697526\n",
    "E_b4 = 0.00526449639\n",
    "\n",
    "def K(m):\n",
    "    m1 = 1 - m**2\n",
    "    return (K_a0 + K_a1*m1 + K_a2*m1**2 + K_a3*m1**3 + K_a4*m1**4) + (K_b0 + K_b1*m1 + K_b2*m1**2 + K_b3*m1**3 + K_b4*m1**4)*math.log(1/m1)\n",
    "\n",
    "def E(m):\n",
    "    m1 = 1 - m**2\n",
    "    return (1 + E_a1*m1 + E_a2*m1**2 + E_a3*m1**3 + E_a4*m1**4) + (E_b1*m1 + E_b2*m1**2 + E_b3*m1**3 + E_b4*m1**4)*math.log(1/m1)\n",
    "\n",
    "def D(m):\n",
    "    m2 = math.sqrt(1-m**2)\n",
    "    lamb = math.log(4/m2)\n",
    "        \n",
    "    #if abs(K(m) - E(m)) > 1e-6:\n",
    "    return (K(m) - E(m))/m**2\n",
    "    #else:\n",
    "    #    return lamb - 1 + 3/4*(lamb - 4/3)*m2**2 + 45/64*(lamb - 41/30)*m2**4 \n",
    "\n",
    "print(K(0)) \n",
    "print(E(0))     \n",
    "print(D(0.001))    "
   ]
  },
  {
   "cell_type": "code",
   "execution_count": 40,
   "metadata": {
    "collapsed": false
   },
   "outputs": [
    {
     "data": {
      "image/png": "[encoded data removed]",
      "text/plain": [
       "<matplotlib.figure.Figure at 0x7f4b7b1031d0>"
      ]
     },
     "metadata": {},
     "output_type": "display_data"
    },
    {
     "data": {
      "image/png": "[encoded data removed]",
      "text/plain": [
       "<matplotlib.figure.Figure at 0x7f4b7b1139b0>"
      ]
     },
     "metadata": {},
     "output_type": "display_data"
    },
    {
     "data": {
      "text/plain": [
       "3.1415926535897931"
      ]
     },
     "execution_count": 40,
     "metadata": {},
     "output_type": "execute_result"
    }
   ],
   "source": [
    "epsilon = 0.0001\n",
    "n = 100\n",
    "\n",
    "A, B = 1.0, 1.3 # B >= A\n",
    "e = math.sqrt(1 - A**2/B**2)\n",
    "L = 2*B*E(e)\n",
    "#L = math.pi\n",
    "ka = math.sqrt((B**2 - A**2)/B**2)\n",
    "\n",
    "\n",
    "ksises = np.arange(0, L+L/(n-1), L/(n-1))\n",
    "sigma = np.arange(n, dtype=float)\n",
    "\n",
    "for k in range (n):\n",
    "    sigma[k] = 3*math.cos(ksises[k])\n",
    "    #sigma[k] = 0\n",
    "\n",
    "def E_incomp(fi, k):\n",
    "    b_0 = 1 - 2/math.pi*E(k)\n",
    "    b_1 = b_0 - 1/4*k**2\n",
    "    b_2 = b_1 - 3/64*k**4\n",
    "\n",
    "    return 2/math.pi*E(k)*fi - math.sin(fi)*math.cos(fi)*(b_0 + 2/3*b_1*math.sin(fi)**2 + 8/15*b_2*math.sin(fi)**4)\n",
    "\n",
    "\n",
    "def f(tetta, ksi):\n",
    "    return B*(E(ka) - E_incomp(math.pi/2 - tetta, ka)) - ksi\n",
    "\n",
    "tettas = []\n",
    "for ksi in ksises:\n",
    "    tettas.append(optimize.fsolve(f, 0, args = (ksi))[0])\n",
    "\n",
    "#print(tettas[2])\n",
    "\n",
    "def r(l):\n",
    "    return A*math.sin(tettas[l])\n",
    "\n",
    "def r_tetta(l):\n",
    "    return A*math.cos(tettas[l])\n",
    "\n",
    "def r_ksi(l):\n",
    "    dksi_dtetta = B*math.sqrt(1 - ka**2*math.sin(tettas[l])**2)\n",
    "    return r_tetta(l)*(1/dksi_dtetta)\n",
    "\n",
    "def z(l):\n",
    "    return B*(1-math.cos(tettas[l]))\n",
    "\n",
    "def z_tetta(l):\n",
    "    return A*math.sin(tettas[l])\n",
    "\n",
    "def z_ksi(l):\n",
    "    dksi_dtetta = B*math.sqrt(1 - ka**2*math.sin(tettas[l])**2)\n",
    "    return z_tetta(l)*(1/dksi_dtetta)\n",
    "\n",
    "\n",
    "def a(i, j):\n",
    "    return (r(i)*z_ksi(i) - z(i)*r_ksi(i) + z(j)*r_ksi(i))*r(j)\n",
    "    \n",
    "def b(i, j):\n",
    "    return r(j)**2*z_ksi(i)\n",
    "\n",
    "def c(i, j):\n",
    "    return r(i)**2 + r(j)**2 + (z(i) - z(j))**2\n",
    "\n",
    "def d(i, j):\n",
    "    return 2*r(i)*r(j)\n",
    "    \n",
    "def K_0(i, j):\n",
    "    if r(i) == 0 and r(j) == 0:\n",
    "        return 2*math.pi\n",
    "    elif abs(c(i, j) - d(i, j)) < epsilon or (c(i,j) + d(i,j)) < epsilon:\n",
    "        return 0\n",
    "    elif d(i,j) < epsilon:\n",
    "        return 2*(a(i, j) - b(i, j))/c(i, j)**(3/2)*math.pi\n",
    "    else:\n",
    "        Ef = E(math.sqrt(abs(2*d(i, j)/(c(i, j)+d(i, j)))))\n",
    "        Df = D(math.sqrt(abs(2*d(i, j)/(c(i, j)+d(i, j)))))\n",
    "        return 4/math.sqrt(abs(c(i, j)+d(i, j)))*(2*b(i, j)/(c(i, j) + d(i, j))*Df + (a(i, j)-b(i, j))/(c(i, j)-d(i, j))*Ef)\n",
    "\n",
    "sigmaa = np.arange(n, dtype=float)   \n",
    "\n",
    "while (abs(sigma[i-1] - sigma[i]) > 0.05):\n",
    "    for i in range(n):\n",
    "        sigmaa[i] = 0\n",
    "\n",
    "        for j in range(n):\n",
    "            if i != j:\n",
    "                #print(i,j, K_0(i, j))\n",
    "                sigmaa[i] += sigma[j]*L/(n-1)*K_0(i,j)/4/math.pi\n",
    "\n",
    "            sigma[i] = 2*(r_ksi(i) + sigmaa[i])\n",
    "\n",
    "    sigmaa[0] = 0.5*sigma[0]\n",
    "    sigmaa[-1] = 0.5*sigma[-1]\n",
    "\n",
    "#print(sigmaa)\n",
    "#print(sigma)\n",
    "plt.plot(ksises[:], tettas[:])\n",
    "#plt.plot(tettas[:], ksises[:] - tettas[:])\n",
    "\n",
    "plt.show()\n",
    "\n",
    "cos_arr = np.arange(n, dtype=float)\n",
    "for m in range(n):\n",
    "    cos_arr[m] = 3*math.cos(ksises[m])\n",
    "    \n",
    "#print(len(cos_arr))\n",
    "#print(len(ksises))\n",
    "#print(len(tettas))\n",
    "#print(len(sigma))\n",
    "\n",
    "plt.plot(ksises[:], sigma[:])\n",
    "plt.plot(ksises[:], cos_arr[:])\n",
    "plt.show()\n",
    "\n",
    "tettas[-1]"
   ]
  },
  {
   "cell_type": "code",
   "execution_count": 23,
   "metadata": {
    "collapsed": false
   },
   "outputs": [
    {
     "ename": "IndexError",
     "evalue": "invalid index to scalar variable.",
     "output_type": "error",
     "traceback": [
      "\u001b[0;31m---------------------------------------------------------------------------\u001b[0m",
      "\u001b[0;31mIndexError\u001b[0m                                Traceback (most recent call last)",
      "\u001b[0;32m<ipython-input-23-c23c8ac36edc>\u001b[0m in \u001b[0;36m<module>\u001b[0;34m()\u001b[0m\n\u001b[1;32m      1\u001b[0m \u001b[0mcos_arr\u001b[0m \u001b[0;34m=\u001b[0m \u001b[0mnp\u001b[0m\u001b[0;34m.\u001b[0m\u001b[0marange\u001b[0m\u001b[0;34m(\u001b[0m\u001b[0mn\u001b[0m\u001b[0;34m,\u001b[0m \u001b[0mdtype\u001b[0m\u001b[0;34m=\u001b[0m\u001b[0mfloat\u001b[0m\u001b[0;34m)\u001b[0m\u001b[0;34m\u001b[0m\u001b[0m\n\u001b[1;32m      2\u001b[0m \u001b[0;32mfor\u001b[0m \u001b[0mm\u001b[0m \u001b[0;32min\u001b[0m \u001b[0mrange\u001b[0m\u001b[0;34m(\u001b[0m\u001b[0mn\u001b[0m\u001b[0;34m)\u001b[0m\u001b[0;34m:\u001b[0m\u001b[0;34m\u001b[0m\u001b[0m\n\u001b[0;32m----> 3\u001b[0;31m     \u001b[0mcos_arr\u001b[0m\u001b[0;34m[\u001b[0m\u001b[0mm\u001b[0m\u001b[0;34m]\u001b[0m \u001b[0;34m=\u001b[0m \u001b[0;36m3\u001b[0m\u001b[0;34m*\u001b[0m\u001b[0mmath\u001b[0m\u001b[0;34m.\u001b[0m\u001b[0mcos\u001b[0m\u001b[0;34m(\u001b[0m\u001b[0mksi\u001b[0m\u001b[0;34m[\u001b[0m\u001b[0mm\u001b[0m\u001b[0;34m]\u001b[0m\u001b[0;34m)\u001b[0m\u001b[0;34m\u001b[0m\u001b[0m\n\u001b[0m\u001b[1;32m      4\u001b[0m \u001b[0;34m\u001b[0m\u001b[0m\n\u001b[1;32m      5\u001b[0m \u001b[0;34m\u001b[0m\u001b[0m\n",
      "\u001b[0;31mIndexError\u001b[0m: invalid index to scalar variable."
     ]
    }
   ],
   "source": [
    "cos_arr = np.arange(n, dtype=float)\n",
    "for m in range(n):\n",
    "    cos_arr[m] = 3*math.cos(ksi[m])\n",
    "\n",
    "\n",
    "plt.plot(ksi[:], sigma[:])\n",
    "\n",
    "plt.plot(ksi[:], cos_arr[:])\n",
    "plt.xlabel(u'ksi')\n",
    "plt.ylabel(u'sigma(ksi) & 3cos(ksi)')\n",
    "\n",
    "plt.show()\n",
    "\n",
    "plt.plot(ksi[:], sigma[:] - cos_arr[:])\n",
    "plt.xlabel(u'ksi')\n",
    "plt.ylabel(u'sigma(ksi) - 3cos(ksi)')\n",
    "\n",
    "plt.show()"
   ]
  },
  {
   "cell_type": "code",
   "execution_count": null,
   "metadata": {
    "collapsed": true
   },
   "outputs": [],
   "source": [
    "plt.plot(ksi[:], cos_arr[:])\n",
    "plt.xlabel(u'ksi')\n",
    "plt.ylabel(u'(cos(ksi))/2')\n",
    "\n",
    "plt.show()\n",
    "\n",
    "plt.plot(ksi[:], sigmaa[:] - cos_arr[:])\n",
    "plt.xlabel(u'ksi')\n",
    "plt.ylabel(u'sigmaa(ksi) - (cos(ksi))/2')\n",
    "\n",
    "plt.show()"
   ]
  },
  {
   "cell_type": "code",
   "execution_count": 95,
   "metadata": {
    "collapsed": false
   },
   "outputs": [
    {
     "ename": "TypeError",
     "evalue": "'numpy.ndarray' object is not callable",
     "output_type": "error",
     "traceback": [
      "\u001b[0;31m---------------------------------------------------------------------------\u001b[0m",
      "\u001b[0;31mTypeError\u001b[0m                                 Traceback (most recent call last)",
      "\u001b[0;32m<ipython-input-95-3dd643d95dbe>\u001b[0m in \u001b[0;36m<module>\u001b[0;34m()\u001b[0m\n\u001b[0;32m----> 1\u001b[0;31m \u001b[0mx\u001b[0m\u001b[0;34m,\u001b[0m \u001b[0my\u001b[0m \u001b[0;34m=\u001b[0m \u001b[0mksi\u001b[0m\u001b[0;34m[\u001b[0m\u001b[0;34m:\u001b[0m\u001b[0;34m]\u001b[0m\u001b[0;34m,\u001b[0m \u001b[0msigmaa\u001b[0m\u001b[0;34m(\u001b[0m\u001b[0mksi\u001b[0m\u001b[0;34m[\u001b[0m\u001b[0;34m:\u001b[0m\u001b[0;34m]\u001b[0m\u001b[0;34m)\u001b[0m\u001b[0;34m\u001b[0m\u001b[0m\n\u001b[0m\u001b[1;32m      2\u001b[0m \u001b[0;34m\u001b[0m\u001b[0m\n\u001b[1;32m      3\u001b[0m \u001b[0mplt\u001b[0m\u001b[0;34m.\u001b[0m\u001b[0mplot\u001b[0m\u001b[0;34m(\u001b[0m\u001b[0mx\u001b[0m\u001b[0;34m,\u001b[0m \u001b[0my\u001b[0m\u001b[0;34m)\u001b[0m\u001b[0;34m\u001b[0m\u001b[0m\n\u001b[1;32m      4\u001b[0m \u001b[0mplt\u001b[0m\u001b[0;34m.\u001b[0m\u001b[0mxlabel\u001b[0m\u001b[0;34m(\u001b[0m\u001b[0;34mu'ksi'\u001b[0m\u001b[0;34m)\u001b[0m\u001b[0;34m\u001b[0m\u001b[0m\n\u001b[1;32m      5\u001b[0m \u001b[0mplt\u001b[0m\u001b[0;34m.\u001b[0m\u001b[0mylabel\u001b[0m\u001b[0;34m(\u001b[0m\u001b[0;34mu'sigma(ksi)'\u001b[0m\u001b[0;34m)\u001b[0m\u001b[0;34m\u001b[0m\u001b[0m\n",
      "\u001b[0;31mTypeError\u001b[0m: 'numpy.ndarray' object is not callable"
     ]
    }
   ],
   "source": [
    "x, y = ksi[:], sigmaa(ksi[:])\n",
    "\n",
    "plt.plot(x, y)\n",
    "plt.xlabel(u'ksi')\n",
    "plt.ylabel(u'sigma(ksi)')\n",
    "\n",
    "#plt.show()\n",
    "\n",
    "plt.plot(ksi[:], sigmaa[:] - 3*math.cos(ksi[i]))\n",
    "plt.xlabel(u'ksi')\n",
    "plt.ylabel(u'sigma(ksi) - 3cos(ksi)')\n",
    "\n",
    "plt.show()"
   ]
  },
  {
   "cell_type": "code",
   "execution_count": 41,
   "metadata": {
    "collapsed": false
   },
   "outputs": [
    {
     "ename": "SyntaxError",
     "evalue": "can't assign to function call (<ipython-input-41-78f4b0261f5e>, line 1)",
     "output_type": "error",
     "traceback": [
      "\u001b[0;36m  File \u001b[0;32m\"<ipython-input-41-78f4b0261f5e>\"\u001b[0;36m, line \u001b[0;32m1\u001b[0m\n\u001b[0;31m    a(ksi[i], ksi[j]) = (-math.sin(ksi[i])*math.sin(ksi[j]) - (math.cos(ksi[i]))**2 + math.cos(ksi[i])*math.cos(ksi[j]))*math.sin(ksi[j])\u001b[0m\n\u001b[0m                                                                                                                                         ^\u001b[0m\n\u001b[0;31mSyntaxError\u001b[0m\u001b[0;31m:\u001b[0m can't assign to function call\n"
     ]
    }
   ],
   "source": [
    "a(ksi[i], ksi[j]) = (-math.sin(ksi[i])*math.sin(ksi[j]) - (math.cos(ksi[i]))**2 + math.cos(ksi[i])*math.cos(ksi[j]))*math.sin(ksi[j])\n",
    "b(ksi[i], ksi[j]) = (math.sin(ksi[j]))**2*math.sin(ksi[i])\n",
    "c(ksi[i], ksi[j]) = (math.sin(ksi[i]))**2 + (math.sin(ksi[j]))**2 + (-math.cos(ksi[i]) + math.cos(ksi[j]))**2\n",
    "d(ksi[i], ksi[j]) = -2*math.sin(ksi[i])*math.sin(ksi[j])\n",
    "K_0(ksi[i], ksi[j]) = 4/math.sqrt(c+d)*(b/d*(K(math.sqrt(2*d/(c+d))) - E(math.sqrt(2*d/(c+d)))) + (a+b)/(c-d)*E(math.sqrt(2*d/(c+d))))\n"
   ]
  },
  {
   "cell_type": "code",
   "execution_count": 27,
   "metadata": {
    "collapsed": false
   },
   "outputs": [
    {
     "ename": "NameError",
     "evalue": "name 'Q' is not defined",
     "output_type": "error",
     "traceback": [
      "\u001b[0;31m---------------------------------------------------------------------------\u001b[0m",
      "\u001b[0;31mNameError\u001b[0m                                 Traceback (most recent call last)",
      "\u001b[0;32m<ipython-input-27-333925c2304f>\u001b[0m in \u001b[0;36m<module>\u001b[0;34m()\u001b[0m\n\u001b[1;32m      1\u001b[0m \u001b[0mq\u001b[0m \u001b[0;34m=\u001b[0m \u001b[0;36m2.\u001b[0m\u001b[0;34m\u001b[0m\u001b[0m\n\u001b[0;32m----> 2\u001b[0;31m \u001b[0mprint\u001b[0m\u001b[0;34m(\u001b[0m\u001b[0mQ\u001b[0m\u001b[0;34m)\u001b[0m\u001b[0;34m\u001b[0m\u001b[0m\n\u001b[0m",
      "\u001b[0;31mNameError\u001b[0m: name 'Q' is not defined"
     ]
    }
   ],
   "source": [
    "q = 2.\n",
    "print(Q)\n"
   ]
  },
  {
   "cell_type": "code",
   "execution_count": 24,
   "metadata": {
    "collapsed": false
   },
   "outputs": [
    {
     "name": "stdout",
     "output_type": "stream",
     "text": [
      "{'Russia': 'Moscow', 'China': 'Honkong'}\n"
     ]
    },
    {
     "data": {
      "text/plain": [
       "'Moscow'"
      ]
     },
     "execution_count": 24,
     "metadata": {},
     "output_type": "execute_result"
    }
   ],
   "source": [
    "capital = {'Russia': 'Moscow',\n",
    "           'China': 'Honkong'}\n",
    "print(capital)\n",
    "capital.\n",
    "capital['Russia']"
   ]
  },
  {
   "cell_type": "code",
   "execution_count": 58,
   "metadata": {
    "collapsed": false
   },
   "outputs": [
    {
     "name": "stdout",
     "output_type": "stream",
     "text": [
      "1.5191342442633027\n",
      "1.4978014050815776\n",
      "2.1332839181725123\n"
     ]
    }
   ],
   "source": [
    "def K(k):\n",
    "    k1 = math.sqrt(1-k**2)\n",
    "    lamb = math.log(4/k1)\n",
    "    return lamb + (lamb-1)/4*k1**2 + 9/64*(lamb - 7/6)*k1**4\n",
    "\n",
    "def E(k):\n",
    "    k1 = math.sqrt(1-k**2)\n",
    "    lamb = math.log(4/k1)\n",
    "    return 1 + 1/2*(lamb-1/2)*k1**2 + 3/16*(lamb-13/12)*k1**4\n",
    "\n",
    "def D(k):\n",
    "    k1 = math.sqrt(1-k**2)\n",
    "    lamb = math.log(4/k1)\n",
    "        \n",
    "    if abs(K(k) - E(k)) > 0.001:\n",
    "        return (K(k) - E(k))/k**2\n",
    "    else:\n",
    "        return lamb - 1 + 3/4*(lamb - 4/3)*k1**2 + 45/64*(lamb - 41/30)*k1**4 \n",
    "\n",
    "\n",
    "print(K(0.1)) \n",
    "print(E(0.1))  \n",
    "print(D(0.1))"
   ]
  },
  {
   "cell_type": "code",
   "execution_count": null,
   "metadata": {
    "collapsed": true
   },
   "outputs": [],
   "source": []
  }
 ],
 "metadata": {
  "kernelspec": {
   "display_name": "Python 3",
   "language": "python",
   "name": "python3"
  },
  "language_info": {
   "codemirror_mode": {
    "name": "ipython",
    "version": 3
   },
   "file_extension": ".py",
   "mimetype": "text/x-python",
   "name": "python",
   "nbconvert_exporter": "python",
   "pygments_lexer": "ipython3",
   "version": "3.6.0"
  }
 },
 "nbformat": 4,
 "nbformat_minor": 2
}
