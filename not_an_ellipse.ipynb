{
 "cells": [
  {
   "cell_type": "code",
   "execution_count": 1,
   "metadata": {
    "collapsed": false
   },
   "outputs": [
    {
     "name": "stdout",
     "output_type": "stream",
     "text": [
      "1.570796719490016\n",
      "1.5707959341016782\n",
      "0.6853984046983895\n"
     ]
    }
   ],
   "source": [
    "import numpy as np\n",
    "import math\n",
    "import matplotlib.pyplot as plt\n",
    "\n",
    "K_a0 = 1.38629436112\n",
    "K_a1 = 0.09666344259\n",
    "K_a2 = 0.03590092383\n",
    "K_a3 = 0.03742563713\n",
    "K_a4 = 0.01451196212\n",
    "\n",
    "K_b0 = 0.5\n",
    "K_b1 = 0.12498593597\n",
    "K_b2 = 0.06880248576\n",
    "K_b3 = 0.03328355346\n",
    "K_b4 = 0.00441787012\n",
    "\n",
    "E_a1 = 0.44325141463\n",
    "E_a2 = 0.06260601220\n",
    "E_a3 = 0.04757383546\n",
    "E_a4 = 0.01736506451\n",
    "\n",
    "E_b1 = 0.24998368310\n",
    "E_b2 = 0.09200180037\n",
    "E_b3 = 0.04069697526\n",
    "E_b4 = 0.00526449639\n",
    "\n",
    "def K(m):\n",
    "    m1 = 1 - m**2\n",
    "    return (K_a0 + K_a1*m1 + K_a2*m1**2 + K_a3*m1**3 + K_a4*m1**4) + (K_b0 + K_b1*m1 + K_b2*m1**2 + K_b3*m1**3 + K_b4*m1**4)*math.log(1/m1)\n",
    "\n",
    "def E(m):\n",
    "    m1 = 1 - m**2\n",
    "    return (1 + E_a1*m1 + E_a2*m1**2 + E_a3*m1**3 + E_a4*m1**4) + (E_b1*m1 + E_b2*m1**2 + E_b3*m1**3 + E_b4*m1**4)*math.log(1/m1)\n",
    "\n",
    "def D(m):\n",
    "    m2 = math.sqrt(1-m**2)\n",
    "    lamb = math.log(4/m2)\n",
    "        \n",
    "    #if abs(K(m) - E(m)) > 1e-6:\n",
    "    return (K(m) - E(m))/m**2\n",
    "    #else:\n",
    "    #    return lamb - 1 + 3/4*(lamb - 4/3)*m2**2 + 45/64*(lamb - 41/30)*m2**4 \n",
    "\n",
    "print(K(1e-3)) \n",
    "print(E(1e-3))     \n",
    "print(D(1e-5))    "
   ]
  },
  {
   "cell_type": "code",
   "execution_count": 2,
   "metadata": {
    "collapsed": false
   },
   "outputs": [
    {
     "data": {
      "image/png": "[encoded data removed]",
      "text/plain": [
       "<matplotlib.figure.Figure at 0x7f3460b47630>"
      ]
     },
     "metadata": {},
     "output_type": "display_data"
    },
    {
     "data": {
      "image/png": "[encoded data removed]",
      "text/plain": [
       "<matplotlib.figure.Figure at 0x7f345e3f3d68>"
      ]
     },
     "metadata": {},
     "output_type": "display_data"
    }
   ],
   "source": [
    "epsilon = 0.0001\n",
    "n = 500\n",
    "k = 0.1\n",
    "\n",
    "ksi = np.arange(0, math.pi, math.pi/n)\n",
    "sigma = np.arange(n, dtype=float)\n",
    "\n",
    "\n",
    "for l in range (n):\n",
    "    #sigma[l] = 3*math.cos(ksi[l])\n",
    "    sigma[l] = 0\n",
    "    \n",
    "def r(i):\n",
    "    return ksi[i] - k*ksi[i]**2/2\n",
    "\n",
    "def r_ksi(i):\n",
    "    return 1 - k*ksi[i]\n",
    "    \n",
    "def z(i):\n",
    "    return -1/k*((1-k*ksi[i])/2*math.sqrt(1 - (1 - k*ksi[i])**2) + 0.5*math.asin(1 - k*ksi[i]))\n",
    "    \n",
    "def z_ksi(i):\n",
    "    return math.sqrt(1 - (1 - k*ksi[i])**2)\n",
    "\n",
    "\n",
    "def a(i, j):\n",
    "    return (r(i)*z_ksi(i) - z(i)*r_ksi(i) + z(j)*r_ksi(i))*r(j)\n",
    "    \n",
    "def b(i, j):\n",
    "    return r(j)**2*z_ksi(i)\n",
    "\n",
    "def c(i, j):\n",
    "    return r(i)**2 + r(j)**2 + (z(i) - z(j))**2\n",
    "\n",
    "def d(i, j):\n",
    "    return 2*r(i)*r(j)\n",
    "    \n",
    "def K_0(i, j):\n",
    "    param = math.sqrt(abs(2*d(i, j)/(c(i, j)+d(i, j))))\n",
    "    if i == 0 and j == 0:\n",
    "        return 2*math.pi\n",
    "    if abs(c(i, j) - d(i, j)) < epsilon or d(i,j) < epsilon or (c(i,j) + d(i,j)) < epsilon:\n",
    "        return 0\n",
    "    else:\n",
    "        Ef = E(param)\n",
    "        D = K(param) - E(param)\n",
    "        return 4/math.sqrt(abs(c(i, j)+d(i, j)))*(b(i, j)/d(i, j)*D + (a(i, j)-b(i, j))/(c(i, j)-d(i, j))*Ef)\n",
    "        #K(math.sqrt(abs(2*d(i, j)/(c(i, j)+d(i, j)))))\n",
    "    \n",
    "sigmaa = np.arange(n, dtype=float)    \n",
    "#print(sigmaa)\n",
    "\n",
    "for i in range(n):\n",
    "    sigmaa[i] = 0\n",
    "    sigmaa[0] = 0.5\n",
    "    for j in range(n):\n",
    "        if i != j:\n",
    "            #print(i,j, K_0(i, j))\n",
    "            sigmaa[i] += sigma[j]*math.pi/(n-1)*K_0(i,j)/4/math.pi\n",
    "\n",
    "\n",
    "        sigma[i] = 2*(math.cos(ksi[i]) + sigmaa[i])\n",
    "\n",
    "#print(sigmaa)\n",
    "#print(sigma)\n",
    "    \n",
    "cos_arr = np.arange(n, dtype=float)\n",
    "for m in range(n):\n",
    "    cos_arr[m] = 3*math.cos(ksi[m])\n",
    "\n",
    "\n",
    "plt.plot(ksi[1:], sigma[1:])\n",
    "\n",
    "plt.plot(ksi[:], cos_arr[:])\n",
    "plt.xlabel(u'ksi')\n",
    "plt.ylabel(u'sigma(ksi) & 3cos(ksi)')\n",
    "\n",
    "plt.show()\n",
    "\n",
    "plt.plot(ksi[1:], sigma[1:] - cos_arr[1:])\n",
    "plt.xlabel(u'ksi')\n",
    "plt.ylabel(u'sigma(ksi) - 3cos(ksi)')\n",
    "\n",
    "plt.show()"
   ]
  },
  {
   "cell_type": "code",
   "execution_count": 4,
   "metadata": {
    "collapsed": false
   },
   "outputs": [
    {
     "data": {
      "image/png": "[encoded data removed]",
      "text/plain": [
       "<matplotlib.figure.Figure at 0x7f1e32f44eb8>"
      ]
     },
     "metadata": {},
     "output_type": "display_data"
    },
    {
     "data": {
      "image/png": "[encoded data removed]",
      "text/plain": [
       "<matplotlib.figure.Figure at 0x7f1e3076c518>"
      ]
     },
     "metadata": {},
     "output_type": "display_data"
    }
   ],
   "source": [
    "plt.plot(ksi[:], cos_arr[:])\n",
    "plt.xlabel(u'ksi')\n",
    "plt.ylabel(u'(cos(ksi))/2')\n",
    "\n",
    "plt.show()\n",
    "\n",
    "plt.plot(ksi[:], sigmaa[:] - cos_arr[:])\n",
    "plt.xlabel(u'ksi')\n",
    "plt.ylabel(u'sigmaa(ksi) - (cos(ksi))/2')\n",
    "\n",
    "plt.show()"
   ]
  },
  {
   "cell_type": "code",
   "execution_count": 95,
   "metadata": {
    "collapsed": false
   },
   "outputs": [
    {
     "ename": "TypeError",
     "evalue": "'numpy.ndarray' object is not callable",
     "output_type": "error",
     "traceback": [
      "\u001b[0;31m---------------------------------------------------------------------------\u001b[0m",
      "\u001b[0;31mTypeError\u001b[0m                                 Traceback (most recent call last)",
      "\u001b[0;32m<ipython-input-95-3dd643d95dbe>\u001b[0m in \u001b[0;36m<module>\u001b[0;34m()\u001b[0m\n\u001b[0;32m----> 1\u001b[0;31m \u001b[0mx\u001b[0m\u001b[0;34m,\u001b[0m \u001b[0my\u001b[0m \u001b[0;34m=\u001b[0m \u001b[0mksi\u001b[0m\u001b[0;34m[\u001b[0m\u001b[0;34m:\u001b[0m\u001b[0;34m]\u001b[0m\u001b[0;34m,\u001b[0m \u001b[0msigmaa\u001b[0m\u001b[0;34m(\u001b[0m\u001b[0mksi\u001b[0m\u001b[0;34m[\u001b[0m\u001b[0;34m:\u001b[0m\u001b[0;34m]\u001b[0m\u001b[0;34m)\u001b[0m\u001b[0;34m\u001b[0m\u001b[0m\n\u001b[0m\u001b[1;32m      2\u001b[0m \u001b[0;34m\u001b[0m\u001b[0m\n\u001b[1;32m      3\u001b[0m \u001b[0mplt\u001b[0m\u001b[0;34m.\u001b[0m\u001b[0mplot\u001b[0m\u001b[0;34m(\u001b[0m\u001b[0mx\u001b[0m\u001b[0;34m,\u001b[0m \u001b[0my\u001b[0m\u001b[0;34m)\u001b[0m\u001b[0;34m\u001b[0m\u001b[0m\n\u001b[1;32m      4\u001b[0m \u001b[0mplt\u001b[0m\u001b[0;34m.\u001b[0m\u001b[0mxlabel\u001b[0m\u001b[0;34m(\u001b[0m\u001b[0;34mu'ksi'\u001b[0m\u001b[0;34m)\u001b[0m\u001b[0;34m\u001b[0m\u001b[0m\n\u001b[1;32m      5\u001b[0m \u001b[0mplt\u001b[0m\u001b[0;34m.\u001b[0m\u001b[0mylabel\u001b[0m\u001b[0;34m(\u001b[0m\u001b[0;34mu'sigma(ksi)'\u001b[0m\u001b[0;34m)\u001b[0m\u001b[0;34m\u001b[0m\u001b[0m\n",
      "\u001b[0;31mTypeError\u001b[0m: 'numpy.ndarray' object is not callable"
     ]
    }
   ],
   "source": [
    "x, y = ksi[:], sigmaa(ksi[:])\n",
    "\n",
    "plt.plot(x, y)\n",
    "plt.xlabel(u'ksi')\n",
    "plt.ylabel(u'sigma(ksi)')\n",
    "\n",
    "#plt.show()\n",
    "\n",
    "plt.plot(ksi[:], sigmaa[:] - 3*math.cos(ksi[i]))\n",
    "plt.xlabel(u'ksi')\n",
    "plt.ylabel(u'sigma(ksi) - 3cos(ksi)')\n",
    "\n",
    "plt.show()"
   ]
  },
  {
   "cell_type": "code",
   "execution_count": 41,
   "metadata": {
    "collapsed": false
   },
   "outputs": [
    {
     "ename": "SyntaxError",
     "evalue": "can't assign to function call (<ipython-input-41-78f4b0261f5e>, line 1)",
     "output_type": "error",
     "traceback": [
      "\u001b[0;36m  File \u001b[0;32m\"<ipython-input-41-78f4b0261f5e>\"\u001b[0;36m, line \u001b[0;32m1\u001b[0m\n\u001b[0;31m    a(ksi[i], ksi[j]) = (-math.sin(ksi[i])*math.sin(ksi[j]) - (math.cos(ksi[i]))**2 + math.cos(ksi[i])*math.cos(ksi[j]))*math.sin(ksi[j])\u001b[0m\n\u001b[0m                                                                                                                                         ^\u001b[0m\n\u001b[0;31mSyntaxError\u001b[0m\u001b[0;31m:\u001b[0m can't assign to function call\n"
     ]
    }
   ],
   "source": [
    "a(ksi[i], ksi[j]) = (-math.sin(ksi[i])*math.sin(ksi[j]) - (math.cos(ksi[i]))**2 + math.cos(ksi[i])*math.cos(ksi[j]))*math.sin(ksi[j])\n",
    "b(ksi[i], ksi[j]) = (math.sin(ksi[j]))**2*math.sin(ksi[i])\n",
    "c(ksi[i], ksi[j]) = (math.sin(ksi[i]))**2 + (math.sin(ksi[j]))**2 + (-math.cos(ksi[i]) + math.cos(ksi[j]))**2\n",
    "d(ksi[i], ksi[j]) = -2*math.sin(ksi[i])*math.sin(ksi[j])\n",
    "K_0(ksi[i], ksi[j]) = 4/math.sqrt(c+d)*(b/d*(K(math.sqrt(2*d/(c+d))) - E(math.sqrt(2*d/(c+d)))) + (a+b)/(c-d)*E(math.sqrt(2*d/(c+d))))\n"
   ]
  },
  {
   "cell_type": "code",
   "execution_count": 15,
   "metadata": {
    "collapsed": false
   },
   "outputs": [
    {
     "data": {
      "text/plain": [
       "0.5"
      ]
     },
     "execution_count": 15,
     "metadata": {},
     "output_type": "execute_result"
    }
   ],
   "source": [
    "1/2.\n"
   ]
  },
  {
   "cell_type": "code",
   "execution_count": 24,
   "metadata": {
    "collapsed": false
   },
   "outputs": [
    {
     "name": "stdout",
     "output_type": "stream",
     "text": [
      "{'Russia': 'Moscow', 'China': 'Honkong'}\n"
     ]
    },
    {
     "data": {
      "text/plain": [
       "'Moscow'"
      ]
     },
     "execution_count": 24,
     "metadata": {},
     "output_type": "execute_result"
    }
   ],
   "source": [
    "capital = {'Russia': 'Moscow',\n",
    "           'China': 'Honkong'}\n",
    "print(capital)\n",
    "capital.\n",
    "capital['Russia']"
   ]
  },
  {
   "cell_type": "code",
   "execution_count": 58,
   "metadata": {
    "collapsed": false
   },
   "outputs": [
    {
     "name": "stdout",
     "output_type": "stream",
     "text": [
      "1.5191342442633027\n",
      "1.4978014050815776\n",
      "2.1332839181725123\n"
     ]
    }
   ],
   "source": [
    "def K(k):\n",
    "    k1 = math.sqrt(1-k**2)\n",
    "    lamb = math.log(4/k1)\n",
    "    return lamb + (lamb-1)/4*k1**2 + 9/64*(lamb - 7/6)*k1**4\n",
    "\n",
    "def E(k):\n",
    "    k1 = math.sqrt(1-k**2)\n",
    "    lamb = math.log(4/k1)\n",
    "    return 1 + 1/2*(lamb-1/2)*k1**2 + 3/16*(lamb-13/12)*k1**4\n",
    "\n",
    "def D(k):\n",
    "    k1 = math.sqrt(1-k**2)\n",
    "    lamb = math.log(4/k1)\n",
    "        \n",
    "    if abs(K(k) - E(k)) > 0.001:\n",
    "        return (K(k) - E(k))/k**2\n",
    "    else:\n",
    "        return lamb - 1 + 3/4*(lamb - 4/3)*k1**2 + 45/64*(lamb - 41/30)*k1**4 \n",
    "\n",
    "\n",
    "print(K(0.1)) \n",
    "print(E(0.1))  \n",
    "print(D(0.1))"
   ]
  },
  {
   "cell_type": "code",
   "execution_count": null,
   "metadata": {
    "collapsed": true
   },
   "outputs": [],
   "source": []
  }
 ],
 "metadata": {
  "kernelspec": {
   "display_name": "Python 3",
   "language": "python",
   "name": "python3"
  },
  "language_info": {
   "codemirror_mode": {
    "name": "ipython",
    "version": 3
   },
   "file_extension": ".py",
   "mimetype": "text/x-python",
   "name": "python",
   "nbconvert_exporter": "python",
   "pygments_lexer": "ipython3",
   "version": "3.6.0"
  }
 },
 "nbformat": 4,
 "nbformat_minor": 2
}
